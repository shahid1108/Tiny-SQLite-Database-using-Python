{
 "cells": [
  {
   "cell_type": "markdown",
   "id": "9efd4697-c192-43b6-9e8d-149d25488030",
   "metadata": {},
   "source": [
    "# Get basic sales summary from SQLite using python :-"
   ]
  },
  {
   "cell_type": "code",
   "execution_count": 131,
   "id": "73f14163-c58d-44a8-b2cd-002cd4a43db2",
   "metadata": {},
   "outputs": [],
   "source": [
    "import sqlite3"
   ]
  },
  {
   "cell_type": "markdown",
   "id": "ebd5f254-dff1-4938-86a3-08cdfa0e31d7",
   "metadata": {},
   "source": [
    "### connect to sqlite databas:-"
   ]
  },
  {
   "cell_type": "code",
   "execution_count": 133,
   "id": "d4fe9110-07c6-4e27-8edd-29e2eb22b61e",
   "metadata": {},
   "outputs": [],
   "source": [
    "con=sqlite3.connect(\"sales_data.db\")"
   ]
  },
  {
   "cell_type": "code",
   "execution_count": 135,
   "id": "d920cdd4-cb71-4c89-b505-834207f95eb3",
   "metadata": {},
   "outputs": [],
   "source": [
    "cur=con.cursor()"
   ]
  },
  {
   "cell_type": "markdown",
   "id": "c7defaa0-8351-4888-b39b-bacbb82af82b",
   "metadata": {},
   "source": [
    "### create a sales table:-"
   ]
  },
  {
   "cell_type": "code",
   "execution_count": 137,
   "id": "51c82ffb-e1ce-4bdd-a7ad-dfbf159e1e70",
   "metadata": {
    "scrolled": true
   },
   "outputs": [
    {
     "data": {
      "text/plain": [
       "<sqlite3.Cursor at 0x1db9bfcc140>"
      ]
     },
     "execution_count": 137,
     "metadata": {},
     "output_type": "execute_result"
    }
   ],
   "source": [
    "cur.execute('''\n",
    "create table if not exists sales(\n",
    "product text,\n",
    "quantity integer,\n",
    "price real\n",
    ")\n",
    "''')"
   ]
  },
  {
   "cell_type": "markdown",
   "id": "f4746bd8-98cb-4790-8bd3-2fa6da683325",
   "metadata": {},
   "source": [
    "### insert a dataset:-"
   ]
  },
  {
   "cell_type": "code",
   "execution_count": 139,
   "id": "2f72f1c2-2381-468f-8ab7-dae545c3caaf",
   "metadata": {},
   "outputs": [],
   "source": [
    "\n",
    "sales_data = [\n",
    "    ('Apple', 10, 2.5), ('Banana', 15, 1.0), ('Orange', 8, 3.0),\n",
    "    ('Apple', 5, 2.5), ('Banana', 7, 1.0), ('Orange', 12, 3.0),\n",
    "    ('Grapes', 20, 2.0), ('Mango', 10, 4.0), ('Apple', 7, 2.5),\n",
    "    ('Banana', 10, 1.0), ('Mango', 5, 4.0), ('Grapes', 10, 2.0),\n",
    "    ('Pineapple', 4, 5.0), ('Pineapple', 6, 5.0), ('Apple', 3, 2.5),\n",
    "    ('Watermelon', 2, 7.0), ('Watermelon', 3, 7.0), ('Orange', 5, 3.0),\n",
    "    ('Mango', 8, 4.0), ('Banana', 12, 1.0), ('Grapes', 15, 2.0)\n",
    "]"
   ]
  },
  {
   "cell_type": "code",
   "execution_count": 141,
   "id": "d86233fb-d408-477e-8f72-f70adde1d325",
   "metadata": {},
   "outputs": [
    {
     "data": {
      "text/plain": [
       "<sqlite3.Cursor at 0x1db9bfcc140>"
      ]
     },
     "execution_count": 141,
     "metadata": {},
     "output_type": "execute_result"
    }
   ],
   "source": [
    "cur.executemany('insert into sales values(?,?,?)',sales_data)"
   ]
  },
  {
   "cell_type": "code",
   "execution_count": 143,
   "id": "4ccaddd4-7647-45dc-813a-fefd359a0d6f",
   "metadata": {},
   "outputs": [],
   "source": [
    "con.commit()"
   ]
  },
  {
   "cell_type": "code",
   "execution_count": 145,
   "id": "a6218c39-9763-469d-a63e-016df9febf5f",
   "metadata": {},
   "outputs": [],
   "source": [
    "import pandas as pd"
   ]
  },
  {
   "cell_type": "markdown",
   "id": "0fa777fa-8964-4ca6-b51e-f89cd8f8d171",
   "metadata": {},
   "source": [
    "### Run SQL query :-"
   ]
  },
  {
   "cell_type": "code",
   "execution_count": 147,
   "id": "3dc69358-3280-44a0-99eb-21dadbb79a0f",
   "metadata": {},
   "outputs": [],
   "source": [
    "query= \"\"\"\n",
    "select\n",
    "    product,\n",
    "    sum(quantity) as total_qty,\n",
    "    sum(quantity * price) as revenue\n",
    "from sales\n",
    "group by product\n",
    "\"\"\""
   ]
  },
  {
   "cell_type": "markdown",
   "id": "eb06427c-0a2d-4920-ac6d-f667d2a1f28d",
   "metadata": {},
   "source": [
    "### print the sales:-"
   ]
  },
  {
   "cell_type": "code",
   "execution_count": 149,
   "id": "7f5b67b4-1b78-4ed0-b7e7-92356c2c8ffe",
   "metadata": {},
   "outputs": [],
   "source": [
    "df= pd.read_sql_query(query,con)"
   ]
  },
  {
   "cell_type": "code",
   "execution_count": 151,
   "id": "e400ba39-c8d6-4d9e-b9d8-8e96efb8f18f",
   "metadata": {},
   "outputs": [
    {
     "name": "stdout",
     "output_type": "stream",
     "text": [
      "      product  total_qty  revenue\n",
      "0       Apple         40    100.0\n",
      "1      Banana         66     66.0\n",
      "2      Grapes         45     90.0\n",
      "3       Mango         23     92.0\n",
      "4      Orange         33     99.0\n",
      "5   Pineapple         10     50.0\n",
      "6  Watermelon          5     35.0\n"
     ]
    }
   ],
   "source": [
    "print(df)"
   ]
  },
  {
   "cell_type": "markdown",
   "id": "d2aecaaf-6dbc-4b21-9e55-6ca96ae286ae",
   "metadata": {},
   "source": [
    "### visualize revenue per product:-"
   ]
  },
  {
   "cell_type": "code",
   "execution_count": 154,
   "id": "20e8958c-e8fb-40a6-9006-4c495eb7d034",
   "metadata": {},
   "outputs": [],
   "source": [
    "import matplotlib.pyplot as plt"
   ]
  },
  {
   "cell_type": "code",
   "execution_count": 156,
   "id": "0f78c7cc-7cda-493b-be03-3c294d359e8e",
   "metadata": {},
   "outputs": [
    {
     "data": {
      "image/png": "[encoded data removed]",
      "text/plain": [
       "<Figure size 640x480 with 1 Axes>"
      ]
     },
     "metadata": {},
     "output_type": "display_data"
    }
   ],
   "source": [
    "df.plot(kind='bar',x='product',y='revenue',legend=False)\n",
    "plt.title('Revenue by Product')\n",
    "plt.xlabel('Product')\n",
    "plt.ylabel('Revenue')\n",
    "plt.tight_layout()\n",
    "plt.savefig(\"expanded_sales_chart.png\")\n",
    "plt.show()"
   ]
  },
  {
   "cell_type": "markdown",
   "id": "4e50461c-69ba-4a8e-a049-fc1d85a0ccc2",
   "metadata": {},
   "source": [
    "### close connection:-"
   ]
  },
  {
   "cell_type": "code",
   "execution_count": 158,
   "id": "e1cef2f4-bdc8-4cdc-b985-23b2fade49cf",
   "metadata": {},
   "outputs": [],
   "source": [
    "con.close()"
   ]
  },
  {
   "cell_type": "code",
   "execution_count": null,
   "id": "2a661a4c-b8fb-4ff7-9ee9-10f534c3c903",
   "metadata": {},
   "outputs": [],
   "source": []
  }
 ],
 "metadata": {
  "kernelspec": {
   "display_name": "Python 3 (ipykernel)",
   "language": "python",
   "name": "python3"
  },
  "language_info": {
   "codemirror_mode": {
    "name": "ipython",
    "version": 3
   },
   "file_extension": ".py",
   "mimetype": "text/x-python",
   "name": "python",
   "nbconvert_exporter": "python",
   "pygments_lexer": "ipython3",
   "version": "3.12.4"
  }
 },
 "nbformat": 4,
 "nbformat_minor": 5
}
